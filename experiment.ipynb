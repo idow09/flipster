{
 "cells": [
  {
   "cell_type": "code",
   "execution_count": 6,
   "metadata": {},
   "outputs": [],
   "source": [
    "import sys\n",
    "sys.path.append('/home/idow09/PycharmProjects/Flipster')"
   ]
  },
  {
   "cell_type": "code",
   "execution_count": 14,
   "metadata": {},
   "outputs": [
    {
     "name": "stdout",
     "output_type": "stream",
     "text": [
      "The autoreload extension is already loaded. To reload it, use:\n",
      "  %reload_ext autoreload\n"
     ]
    }
   ],
   "source": [
    "%load_ext autoreload\n",
    "%autoreload 2\n",
    "\n",
    "import os\n",
    "import numpy as np\n",
    "import matplotlib.pyplot as plt\n",
    "# import cv2\n",
    "import mpld3\n",
    "# from pathlib import Path\n",
    "\n",
    "from benchmark import Benchmark\n",
    "from utils import *\n",
    "# from utils.visual_utils import *\n",
    "\n",
    "mpld3.enable_notebook()"
   ]
  },
  {
   "cell_type": "code",
   "execution_count": 72,
   "metadata": {},
   "outputs": [
    {
     "name": "stdout",
     "output_type": "stream",
     "text": [
      "precision: 0.9\n",
      "recall: 0.75\n"
     ]
    }
   ],
   "source": [
    "base_dir = '/home/idow09/DEV/Flipster/DemoDataset/'\n",
    "images = base_dir + 'images'\n",
    "labels = base_dir + 'labels.txt'\n",
    "preds = base_dir + 'preds.txt'\n",
    "bm = Benchmark(images, labels, preds)"
   ]
  },
  {
   "cell_type": "code",
   "execution_count": 77,
   "metadata": {},
   "outputs": [
    {
     "data": {
      "text/plain": [
       "array([{'path': '/home/idow09/DEV/Flipster/DemoDataset/images/val_0.JPEG', 'label': True, 'pred': False},\n",
       "       {'path': '/home/idow09/DEV/Flipster/DemoDataset/images/val_7.JPEG', 'label': True, 'pred': False},\n",
       "       {'path': '/home/idow09/DEV/Flipster/DemoDataset/images/val_91.JPEG', 'label': True, 'pred': False}],\n",
       "      dtype=object)"
      ]
     },
     "execution_count": 77,
     "metadata": {},
     "output_type": "execute_result"
    }
   ],
   "source": [
    "np.array(bm.choose_samples(Benchmark.false_negative))"
   ]
  },
  {
   "cell_type": "code",
   "execution_count": null,
   "metadata": {},
   "outputs": [],
   "source": []
  }
 ],
 "metadata": {
  "kernelspec": {
   "display_name": "Python 3",
   "language": "python",
   "name": "python3"
  },
  "language_info": {
   "codemirror_mode": {
    "name": "ipython",
    "version": 3
   },
   "file_extension": ".py",
   "mimetype": "text/x-python",
   "name": "python",
   "nbconvert_exporter": "python",
   "pygments_lexer": "ipython3",
   "version": "3.7.4"
  }
 },
 "nbformat": 4,
 "nbformat_minor": 2
}
